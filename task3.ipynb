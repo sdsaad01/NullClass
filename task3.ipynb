{
 "cells": [
  {
   "cell_type": "code",
   "execution_count": 3,
   "id": "ba17fbe7-1cec-4bd7-90ca-0f57382f9d33",
   "metadata": {},
   "outputs": [],
   "source": [
    "import pandas as pd\n",
    "import matplotlib.pyplot as plt\n",
    "import numpy as np\n",
    "from datetime import datetime\n",
    "import pytz\n",
    "\n"
   ]
  },
  {
   "cell_type": "code",
   "execution_count": 4,
   "id": "1b30f548-10c1-4feb-86da-6c44902dc166",
   "metadata": {},
   "outputs": [],
   "source": [
    "# Set the timezone to IST\n",
    "IST = pytz.timezone('Asia/Kolkata')\n"
   ]
  },
  {
   "cell_type": "code",
   "execution_count": 5,
   "id": "7c971bd7-46d7-4a6e-a709-78e203dcd075",
   "metadata": {},
   "outputs": [],
   "source": [
    "\n",
    "# Get the current time in IST\n",
    "now_ist = datetime.now(IST)\n"
   ]
  },
  {
   "cell_type": "code",
   "execution_count": 9,
   "id": "59725727-c0b6-40c9-b9ff-13e9bee0d560",
   "metadata": {},
   "outputs": [
    {
     "name": "stdout",
     "output_type": "stream",
     "text": [
      "Chart generation is only available between 1 PM and 2 PM IST.\n",
      "Current IST time: 2025-08-20 19:35:48\n"
     ]
    }
   ],
   "source": [
    "\n",
    "# Check if the current hour is between 1 PM (13) and 2 PM (14)\n",
    "if 13 <= now_ist.hour < 14:\n",
    "    # Load the dataset\n",
    "    try:\n",
    "        df = pd.read_csv('Play Store Data.csv')\n",
    "\n",
    "        # --- Data Cleaning and Preprocessing ---\n",
    "\n",
    "        # 1. Handle 'Installs'\n",
    "        df['Installs'] = df['Installs'].str.replace('[,+]', '', regex=True)\n",
    "        df = df[df['Installs'] != 'Free']\n",
    "        df['Installs'] = pd.to_numeric(df['Installs'])\n",
    "\n",
    "\n",
    "        # 2. Handle 'Price' and calculate 'Revenue'\n",
    "        df['Price'] = df['Price'].str.replace('$', '', regex=False)\n",
    "        df['Price'] = pd.to_numeric(df['Price'], errors='coerce')\n",
    "        df['Revenue'] = df['Installs'] * df['Price']\n",
    "\n",
    "        # 3. Handle 'Size'\n",
    "        def convert_size(size):\n",
    "            if isinstance(size, str):\n",
    "                if 'M' in size:\n",
    "                    return float(size.replace('M', ''))\n",
    "                elif 'k' in size:\n",
    "                    return float(size.replace('k', '')) / 1024\n",
    "            return np.nan\n",
    "\n",
    "        df['Size'] = df['Size'].apply(convert_size)\n",
    "\n",
    "        # 4. Handle 'Android Ver'\n",
    "        df['Android Ver'] = df['Android Ver'].str.extract(r'(\\d+\\.\\d+)').astype(float)\n",
    "\n",
    "\n",
    "        # --- Filtering the Data ---\n",
    "        df_filtered = df[\n",
    "            (df['Installs'] >= 10000) &\n",
    "            (df['Revenue'] >= 10000) &\n",
    "            (df['Android Ver'] > 4.0) &\n",
    "            (df['Size'] > 15) &\n",
    "            (df['Content Rating'] == 'Everyone') &\n",
    "            (df['App'].str.len() <= 30)\n",
    "        ]\n",
    "\n",
    "        # --- Top 3 Categories ---\n",
    "        top_categories = df_filtered['Category'].value_counts().nlargest(3).index.tolist()\n",
    "        df_top = df_filtered[df_filtered['Category'].isin(top_categories)]\n",
    "\n",
    "        # --- Data Aggregation for Plotting ---\n",
    "        chart_data = df_top.groupby(['Category', 'Type']).agg(\n",
    "            Average_Installs=('Installs', 'mean'),\n",
    "            Average_Revenue=('Revenue', 'mean')\n",
    "        ).reset_index()\n",
    "\n",
    "        # Pivot the data for plotting\n",
    "        pivot_data = chart_data.pivot(index='Category', columns='Type', values=['Average_Installs', 'Average_Revenue'])\n",
    "\n",
    "        # --- Chart Creation ---\n",
    "        fig, ax1 = plt.subplots(figsize=(12, 7))\n",
    "\n",
    "        # Bar chart for Average Installs\n",
    "        pivot_data['Average_Installs'].plot(kind='bar', ax=ax1, position=0, width=0.4, color=['#1f77b4', '#ff7f0e'])\n",
    "        ax1.set_ylabel('Average Installs', color='black')\n",
    "        ax1.tick_params(axis='y', labelcolor='black')\n",
    "        ax1.set_xlabel('App Category')\n",
    "        ax1.set_xticklabels(ax1.get_xticklabels(), rotation=45, ha=\"right\")\n",
    "\n",
    "\n",
    "        # Line chart for Average Revenue on a secondary y-axis\n",
    "        ax2 = ax1.twinx()\n",
    "        pivot_data['Average_Revenue'].plot(kind='line', ax=ax2, marker='o', color=['#2ca02c', '#d62728'])\n",
    "        ax2.set_ylabel('Average Revenue ($)', color='black')\n",
    "        ax2.tick_params(axis='y', labelcolor='black')\n",
    "\n",
    "        # --- Final Touches ---\n",
    "        plt.title('Average Installs vs. Revenue for Top 3 Categories (Free vs. Paid Apps)')\n",
    "        fig.tight_layout()\n",
    "        plt.legend(title='Type')\n",
    "        plt.grid(True)\n",
    "        plt.savefig('dual_axis_chart.png')\n",
    "\n",
    "        print(\"Chart generated successfully and saved as dual_axis_chart.png\")\n",
    "\n",
    "    except FileNotFoundError:\n",
    "        print(\"Error: 'Play Store Data.csv' not found. Please make sure the file is in the correct directory.\")\n",
    "    except Exception as e:\n",
    "        print(f\"An error occurred: {e}\")\n",
    "\n",
    "else:\n",
    "    print(\"Chart generation is only available between 1 PM and 2 PM IST.\")\n",
    "    print(f\"Current IST time: {now_ist.strftime('%Y-%m-%d %H:%M:%S')}\")"
   ]
  },
  {
   "cell_type": "code",
   "execution_count": null,
   "id": "1910cd96-bd0f-4fa3-83a6-ef473d66ab4d",
   "metadata": {},
   "outputs": [],
   "source": []
  }
 ],
 "metadata": {
  "kernelspec": {
   "display_name": "Python 3 (ipykernel)",
   "language": "python",
   "name": "python3"
  },
  "language_info": {
   "codemirror_mode": {
    "name": "ipython",
    "version": 3
   },
   "file_extension": ".py",
   "mimetype": "text/x-python",
   "name": "python",
   "nbconvert_exporter": "python",
   "pygments_lexer": "ipython3",
   "version": "3.13.5"
  }
 },
 "nbformat": 4,
 "nbformat_minor": 5
}
